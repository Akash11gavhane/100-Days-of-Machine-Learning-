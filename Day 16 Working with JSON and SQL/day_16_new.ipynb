{
 "cells": [
  {
   "cell_type": "markdown",
   "metadata": {},
   "source": [
    "## Working With SQL"
   ]
  },
  {
   "cell_type": "code",
   "execution_count": 1,
   "metadata": {},
   "outputs": [],
   "source": [
    "import pandas as pd\n",
    "import numpy as np"
   ]
  },
  {
   "cell_type": "code",
   "execution_count": 4,
   "metadata": {},
   "outputs": [
    {
     "name": "stdout",
     "output_type": "stream",
     "text": [
      "Defaulting to user installation because normal site-packages is not writeableNote: you may need to restart the kernel to use updated packages.\n",
      "\n",
      "Collecting mysql.connector\n",
      "  Downloading mysql-connector-2.2.9.tar.gz (11.9 MB)\n",
      "                                              0.0/11.9 MB ? eta -:--:--\n",
      "                                              0.1/11.9 MB 2.0 MB/s eta 0:00:07\n",
      "     -                                        0.4/11.9 MB 1.9 MB/s eta 0:00:06\n",
      "     -                                        0.5/11.9 MB 2.2 MB/s eta 0:00:06\n",
      "     --                                       0.8/11.9 MB 3.0 MB/s eta 0:00:04\n",
      "     ---                                      1.1/11.9 MB 3.2 MB/s eta 0:00:04\n",
      "     ------                                   2.0/11.9 MB 4.2 MB/s eta 0:00:03\n",
      "     ---------                                2.7/11.9 MB 4.8 MB/s eta 0:00:02\n",
      "     ----------                               3.1/11.9 MB 4.9 MB/s eta 0:00:02\n",
      "     -----------                              3.5/11.9 MB 4.9 MB/s eta 0:00:02\n",
      "     -------------                            3.9/11.9 MB 5.0 MB/s eta 0:00:02\n",
      "     ---------------                          4.5/11.9 MB 5.1 MB/s eta 0:00:02\n",
      "     ----------------                         4.9/11.9 MB 5.2 MB/s eta 0:00:02\n",
      "     ------------------                       5.4/11.9 MB 5.3 MB/s eta 0:00:02\n",
      "     -------------------                      5.9/11.9 MB 5.4 MB/s eta 0:00:02\n",
      "     ---------------------                    6.5/11.9 MB 5.5 MB/s eta 0:00:01\n",
      "     -----------------------                  6.9/11.9 MB 5.5 MB/s eta 0:00:01\n",
      "     ------------------------                 7.3/11.9 MB 5.6 MB/s eta 0:00:01\n",
      "     --------------------------               7.8/11.9 MB 5.6 MB/s eta 0:00:01\n",
      "     -----------------------------            8.6/11.9 MB 5.7 MB/s eta 0:00:01\n",
      "     ------------------------------           9.2/11.9 MB 5.7 MB/s eta 0:00:01\n",
      "     --------------------------------         9.6/11.9 MB 5.7 MB/s eta 0:00:01\n",
      "     ---------------------------------        9.9/11.9 MB 5.7 MB/s eta 0:00:01\n",
      "     ----------------------------------       10.2/11.9 MB 5.8 MB/s eta 0:00:01\n",
      "     -----------------------------------      10.5/11.9 MB 6.1 MB/s eta 0:00:01\n",
      "     ------------------------------------     10.8/11.9 MB 6.3 MB/s eta 0:00:01\n",
      "     -------------------------------------    11.2/11.9 MB 6.4 MB/s eta 0:00:01\n",
      "     --------------------------------------   11.6/11.9 MB 6.4 MB/s eta 0:00:01\n",
      "     ---------------------------------------  11.8/11.9 MB 6.4 MB/s eta 0:00:01\n",
      "     ---------------------------------------  11.8/11.9 MB 6.4 MB/s eta 0:00:01\n",
      "     ---------------------------------------  11.8/11.9 MB 6.4 MB/s eta 0:00:01\n",
      "     ---------------------------------------  11.8/11.9 MB 6.4 MB/s eta 0:00:01\n",
      "     ---------------------------------------  11.8/11.9 MB 6.4 MB/s eta 0:00:01\n",
      "     ---------------------------------------  11.8/11.9 MB 6.4 MB/s eta 0:00:01\n",
      "     ---------------------------------------  11.8/11.9 MB 6.4 MB/s eta 0:00:01\n",
      "     ---------------------------------------  11.8/11.9 MB 6.4 MB/s eta 0:00:01\n",
      "     ---------------------------------------  11.8/11.9 MB 6.4 MB/s eta 0:00:01\n",
      "     ---------------------------------------- 11.9/11.9 MB 4.6 MB/s eta 0:00:00\n",
      "  Installing build dependencies: started\n",
      "  Installing build dependencies: finished with status 'done'\n",
      "  Getting requirements to build wheel: started\n",
      "  Getting requirements to build wheel: finished with status 'done'\n",
      "  Preparing metadata (pyproject.toml): started\n",
      "  Preparing metadata (pyproject.toml): finished with status 'done'\n",
      "Building wheels for collected packages: mysql.connector\n",
      "  Building wheel for mysql.connector (pyproject.toml): started\n",
      "  Building wheel for mysql.connector (pyproject.toml): finished with status 'done'\n",
      "  Created wheel for mysql.connector: filename=mysql_connector-2.2.9-cp310-cp310-win_amd64.whl size=247959 sha256=e76a309552f599c29d6391030da0de5b0af49eb63ffa6ae235cab89a335976ed\n",
      "  Stored in directory: c:\\users\\akash\\appdata\\local\\pip\\cache\\wheels\\76\\48\\9b\\da67ff1a18fe8e9d428f9b1a177716d4a7d363d2bbe83bf6cf\n",
      "Successfully built mysql.connector\n",
      "Installing collected packages: mysql.connector\n",
      "Successfully installed mysql.connector-2.2.9\n"
     ]
    },
    {
     "name": "stderr",
     "output_type": "stream",
     "text": [
      "\n",
      "[notice] A new release of pip is available: 23.1.2 -> 23.2.1\n",
      "[notice] To update, run: python.exe -m pip install --upgrade pip\n"
     ]
    }
   ],
   "source": [
    "!pip install mysql.connector"
   ]
  },
  {
   "cell_type": "code",
   "execution_count": 5,
   "metadata": {},
   "outputs": [],
   "source": [
    "\n",
    "import mysql.connector"
   ]
  },
  {
   "cell_type": "code",
   "execution_count": 7,
   "metadata": {},
   "outputs": [],
   "source": [
    "conn = mysql.connector.connect(host = 'localhost' , user = 'root' , password = '' , database = 'World')"
   ]
  },
  {
   "cell_type": "code",
   "execution_count": 14,
   "metadata": {},
   "outputs": [
    {
     "name": "stderr",
     "output_type": "stream",
     "text": [
      "C:\\Users\\AKASH\\AppData\\Local\\Temp\\ipykernel_8224\\391878558.py:1: UserWarning: pandas only supports SQLAlchemy connectable (engine/connection) or database string URI or sqlite3 DBAPI2 connection. Other DBAPI2 objects are not tested. Please consider using SQLAlchemy.\n",
      "  pd.read_sql_query(\"SELECT * FROM countrylanguage\" , conn)\n"
     ]
    },
    {
     "data": {
      "text/html": [
       "<div>\n",
       "<style scoped>\n",
       "    .dataframe tbody tr th:only-of-type {\n",
       "        vertical-align: middle;\n",
       "    }\n",
       "\n",
       "    .dataframe tbody tr th {\n",
       "        vertical-align: top;\n",
       "    }\n",
       "\n",
       "    .dataframe thead th {\n",
       "        text-align: right;\n",
       "    }\n",
       "</style>\n",
       "<table border=\"1\" class=\"dataframe\">\n",
       "  <thead>\n",
       "    <tr style=\"text-align: right;\">\n",
       "      <th></th>\n",
       "      <th>CountryCode</th>\n",
       "      <th>Language</th>\n",
       "      <th>IsOfficial</th>\n",
       "      <th>Percentage</th>\n",
       "    </tr>\n",
       "  </thead>\n",
       "  <tbody>\n",
       "    <tr>\n",
       "      <th>0</th>\n",
       "      <td>ABW</td>\n",
       "      <td>Dutch</td>\n",
       "      <td>T</td>\n",
       "      <td>5.3</td>\n",
       "    </tr>\n",
       "    <tr>\n",
       "      <th>1</th>\n",
       "      <td>ABW</td>\n",
       "      <td>English</td>\n",
       "      <td>F</td>\n",
       "      <td>9.5</td>\n",
       "    </tr>\n",
       "    <tr>\n",
       "      <th>2</th>\n",
       "      <td>ABW</td>\n",
       "      <td>Papiamento</td>\n",
       "      <td>F</td>\n",
       "      <td>76.7</td>\n",
       "    </tr>\n",
       "    <tr>\n",
       "      <th>3</th>\n",
       "      <td>ABW</td>\n",
       "      <td>Spanish</td>\n",
       "      <td>F</td>\n",
       "      <td>7.4</td>\n",
       "    </tr>\n",
       "    <tr>\n",
       "      <th>4</th>\n",
       "      <td>AFG</td>\n",
       "      <td>Balochi</td>\n",
       "      <td>F</td>\n",
       "      <td>0.9</td>\n",
       "    </tr>\n",
       "    <tr>\n",
       "      <th>...</th>\n",
       "      <td>...</td>\n",
       "      <td>...</td>\n",
       "      <td>...</td>\n",
       "      <td>...</td>\n",
       "    </tr>\n",
       "    <tr>\n",
       "      <th>979</th>\n",
       "      <td>ZMB</td>\n",
       "      <td>Tongan</td>\n",
       "      <td>F</td>\n",
       "      <td>11.0</td>\n",
       "    </tr>\n",
       "    <tr>\n",
       "      <th>980</th>\n",
       "      <td>ZWE</td>\n",
       "      <td>English</td>\n",
       "      <td>T</td>\n",
       "      <td>2.2</td>\n",
       "    </tr>\n",
       "    <tr>\n",
       "      <th>981</th>\n",
       "      <td>ZWE</td>\n",
       "      <td>Ndebele</td>\n",
       "      <td>F</td>\n",
       "      <td>16.2</td>\n",
       "    </tr>\n",
       "    <tr>\n",
       "      <th>982</th>\n",
       "      <td>ZWE</td>\n",
       "      <td>Nyanja</td>\n",
       "      <td>F</td>\n",
       "      <td>2.2</td>\n",
       "    </tr>\n",
       "    <tr>\n",
       "      <th>983</th>\n",
       "      <td>ZWE</td>\n",
       "      <td>Shona</td>\n",
       "      <td>F</td>\n",
       "      <td>72.1</td>\n",
       "    </tr>\n",
       "  </tbody>\n",
       "</table>\n",
       "<p>984 rows × 4 columns</p>\n",
       "</div>"
      ],
      "text/plain": [
       "    CountryCode    Language IsOfficial  Percentage\n",
       "0           ABW       Dutch          T         5.3\n",
       "1           ABW     English          F         9.5\n",
       "2           ABW  Papiamento          F        76.7\n",
       "3           ABW     Spanish          F         7.4\n",
       "4           AFG     Balochi          F         0.9\n",
       "..          ...         ...        ...         ...\n",
       "979         ZMB      Tongan          F        11.0\n",
       "980         ZWE     English          T         2.2\n",
       "981         ZWE     Ndebele          F        16.2\n",
       "982         ZWE      Nyanja          F         2.2\n",
       "983         ZWE       Shona          F        72.1\n",
       "\n",
       "[984 rows x 4 columns]"
      ]
     },
     "execution_count": 14,
     "metadata": {},
     "output_type": "execute_result"
    }
   ],
   "source": [
    "pd.read_sql_query(\"SELECT * FROM countrylanguage\" , conn)"
   ]
  },
  {
   "cell_type": "code",
   "execution_count": null,
   "metadata": {},
   "outputs": [],
   "source": []
  }
 ],
 "metadata": {
  "kernelspec": {
   "display_name": "Python 3",
   "language": "python",
   "name": "python3"
  },
  "language_info": {
   "codemirror_mode": {
    "name": "ipython",
    "version": 3
   },
   "file_extension": ".py",
   "mimetype": "text/x-python",
   "name": "python",
   "nbconvert_exporter": "python",
   "pygments_lexer": "ipython3",
   "version": "3.10.7"
  },
  "orig_nbformat": 4
 },
 "nbformat": 4,
 "nbformat_minor": 2
}
